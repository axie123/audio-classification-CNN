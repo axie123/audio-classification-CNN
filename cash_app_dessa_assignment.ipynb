{
  "nbformat": 4,
  "nbformat_minor": 0,
  "metadata": {
    "colab": {
      "name": "cash_app_dessa_assignment.ipynb",
      "provenance": [],
      "collapsed_sections": []
    },
    "kernelspec": {
      "name": "python3",
      "display_name": "Python 3"
    },
    "language_info": {
      "name": "python"
    },
    "accelerator": "GPU"
  },
  "cells": [
    {
      "cell_type": "markdown",
      "metadata": {
        "id": "N3m84rQqSF3u"
      },
      "source": [
        "### Introduction"
      ]
    },
    {
      "cell_type": "markdown",
      "metadata": {
        "id": "-uv6gaiqScIu"
      },
      "source": [
        "This tutorial will show how we can accurate classify audio sounds with deep learning."
      ]
    },
    {
      "cell_type": "markdown",
      "metadata": {
        "id": "LVxRl3JTSIXq"
      },
      "source": [
        "Note: my internet speeds seem to greatly affect how quickly the audio data processing and feature extraction with Librosa can be. Librosa's loading speeds vary drastically. The shortest time for loading was under 6 minutes and the longest was > 1 hour. Please keep note of this. Also, the GPU wasn't always available."
      ]
    },
    {
      "cell_type": "markdown",
      "metadata": {
        "id": "hWYMSTernepv"
      },
      "source": [
        "###Assumptions"
      ]
    },
    {
      "cell_type": "markdown",
      "metadata": {
        "id": "b_u_IG8mhJ3O"
      },
      "source": [
        "\n",
        "1.   The audio data loaded are sufficently clean and distinct between labels that the feature extraction method used is sufficient for wave pattern distinction.\n",
        "2.   Librosa is the fastest audio file loader and feature extractor for this assignment. If librosa takes too long to load, you can use the preloaded **.npy** files in the shared folder using **np.load()** to the appropriate variables. For more information: https://numpy.org/doc/stable/reference/generated/numpy.load.html. The labels need to be one-hot encoded.\n",
        "3.   It is appropriate to represent the audio files in a spatial/spectral context given their nature to be train a CNN.\n",
        "4.   The GPU for Colab can be used for this project. If not, take out lines **with tf.device('/device:GPU:0'):** to get rid of the GPU.\n",
        "\n"
      ]
    },
    {
      "cell_type": "markdown",
      "metadata": {
        "id": "J-la7tGbhN1G"
      },
      "source": [
        "### 1. Importing all the necessary modules and hardware."
      ]
    },
    {
      "cell_type": "markdown",
      "metadata": {
        "id": "zd_tMlFu_R2D"
      },
      "source": [
        "There are a 5 main modules that we would be using for this particular project.  \n",
        "\n",
        "1.   **os** - This is a Python built-in module that allows the engineer to access the local or cloud file systems.\n",
        "2.   **Librosa** - Python package typically used for music and audio analysis. We are also going to be using it for feature extraction.\n",
        "3.   **Numpy** - Scientific computing that will be used to process the raw audio files for deep learning.\n",
        "4.   **TensorFlow** - Deep learning framework that is going to be used to build and train the CNN. \n",
        "5.   **Matplotlib** - Useful for visualization during EDA. Please use a GPU for training.\n",
        "\n",
        "\n"
      ]
    },
    {
      "cell_type": "code",
      "metadata": {
        "id": "afSI64f2tazw"
      },
      "source": [
        "import os # We are going to need os to import the .wav files into the notebook to be processed.\n",
        "import numpy as np # This will be used to put the wave features of each .wav file into datasets.\n",
        "import seaborn as sn # This will be used for the confusion matrix.\n",
        "import pandas as pd # This will be used for the confusion matrix.\n",
        "import librosa # This is the audio file processing library that I have decided to use.\n",
        "from random import shuffle # This is used for shuffling the datasets once they are created.\n",
        "import matplotlib.pyplot as plt # This is used during the EDA.\n",
        "import tensorflow as tf # Deep learning framework used to develop the CNN for inference."
      ],
      "execution_count": null,
      "outputs": []
    },
    {
      "cell_type": "markdown",
      "metadata": {
        "id": "G47iT6QnOWFj"
      },
      "source": [
        "For this project, we want to use a GPU. This will help to drastically speed up training of the model. For this project, we can go to *Runtime -> Change runtime type -> Change to GPU runtime*. "
      ]
    },
    {
      "cell_type": "code",
      "metadata": {
        "id": "Zgy8YLpEOxnV",
        "colab": {
          "base_uri": "https://localhost:8080/"
        },
        "outputId": "26912c34-19f3-452e-d535-309c3ecb6a37"
      },
      "source": [
        "# This block of code is to check if the GPU instance is running on this notebook session.\n",
        "# We want to use a GPU to speed up data processing and CNN training time.\n",
        "\n",
        "# We want to see if the Google Drive gpu is available for use in this notebook session.\n",
        "# If it is available, the return on the notebook should say:\n",
        "# Found GPU at: /device:GPU:0\n",
        "\n",
        "device_name = tf.test.gpu_device_name() \n",
        "if device_name != '/device:GPU:0':\n",
        "    raise SystemError('GPU device not found')\n",
        "print('Found GPU at: {}'.format(device_name))"
      ],
      "execution_count": null,
      "outputs": [
        {
          "output_type": "stream",
          "text": [
            "Found GPU at: /device:GPU:0\n"
          ],
          "name": "stdout"
        }
      ]
    },
    {
      "cell_type": "markdown",
      "metadata": {
        "id": "5nsZndcXo07S"
      },
      "source": [
        "### 2. Mounting the Google Drive to access the audio data."
      ]
    },
    {
      "cell_type": "markdown",
      "metadata": {
        "id": "68Mqu2yRPAdI"
      },
      "source": [
        "For this project, we are going to use the dataset in **Dessa Cash Dataset.zip**. This contains 8732 **.wav** files. I had to unzip this file locally as I was unable to unzip the zip file directly on the Google Drive. Then, I uploaded the unzipped file onto the Google Drive. "
      ]
    },
    {
      "cell_type": "markdown",
      "metadata": {
        "id": "uKlM-lXKTrUZ"
      },
      "source": [
        "In this case, I created a shortcut for the data folder I unzipped and shared in the assignment drive to my main Google Drive to access it."
      ]
    },
    {
      "cell_type": "code",
      "metadata": {
        "id": "eM6nHZdjhXZ3",
        "colab": {
          "base_uri": "https://localhost:8080/"
        },
        "outputId": "49b1d77d-018e-467c-f119-36ba292ca7c0"
      },
      "source": [
        "# This script would mount the drive onto the Colab Notebook.\n",
        "# If there is a drive mounted, the notebook would return:\n",
        "# \"Mounted at /content/drive\" or \n",
        "# \"Drive already mounted at /content/drive; to attempt to forcibly remount, call drive.mount(\"/content/drive\", force_remount=True).\"\n",
        "\n",
        "from google.colab import drive\n",
        "drive.mount('/content/drive')"
      ],
      "execution_count": null,
      "outputs": [
        {
          "output_type": "stream",
          "text": [
            "Mounted at /content/drive\n"
          ],
          "name": "stdout"
        }
      ]
    },
    {
      "cell_type": "code",
      "metadata": {
        "id": "ULXfILahygrL"
      },
      "source": [
        "AUDIO_DATASET = \"/content/drive/MyDrive/Dessa_Cash_Dataset\""
      ],
      "execution_count": null,
      "outputs": []
    },
    {
      "cell_type": "markdown",
      "metadata": {
        "id": "k0v1WzAupkzB"
      },
      "source": [
        "###3. Exploratory Data Analysis "
      ]
    },
    {
      "cell_type": "markdown",
      "metadata": {
        "id": "CN6YRK0X2lQM"
      },
      "source": [
        "For EDA, we want to find out:\n",
        "\n",
        "1.   *The label distribution in the dataset* - It is important that our dataset is reasonably balanced and that no labels are over or underrepresented.\n",
        "\n"
      ]
    },
    {
      "cell_type": "code",
      "metadata": {
        "id": "t1ErhSXJt2LA"
      },
      "source": [
        "# We want to make a histogram to look at the distribution of data among the label ids.\n",
        "labels = []"
      ],
      "execution_count": null,
      "outputs": []
    },
    {
      "cell_type": "code",
      "metadata": {
        "id": "yNHr7k5HSBrW"
      },
      "source": [
        "# We want to extract all the relative paths for the audio files into a list once.\n",
        "AUDIO_FILES = os.listdir(AUDIO_DATASET)\n",
        "AUDIO_DATA = [audio for audio in AUDIO_FILES if audio != '.DS_Store']"
      ],
      "execution_count": null,
      "outputs": []
    },
    {
      "cell_type": "code",
      "metadata": {
        "id": "cEFtmD0Nm5cR"
      },
      "source": [
        "# Loading the array for the history:\n",
        "for sound in AUDIO_DATA:  \n",
        "    label = sound[-5]\n",
        "    labels.append(int(label))"
      ],
      "execution_count": null,
      "outputs": []
    },
    {
      "cell_type": "code",
      "metadata": {
        "colab": {
          "base_uri": "https://localhost:8080/",
          "height": 334
        },
        "id": "aI6QR0F1qYQB",
        "outputId": "a94ef03d-0225-4e5f-eefe-e76ce17014ed"
      },
      "source": [
        "# Plotting the histogram:\n",
        "\n",
        "bins = np.arange(10)-0.5\n",
        "plt.figure(figsize=(8,5))\n",
        "plt.hist(labels, bins=bins, color='green', rwidth=0.5)\n",
        "plt.xlabel('Label IDs')\n",
        "plt.ylabel('ID Frequency')\n",
        "plt.show()"
      ],
      "execution_count": null,
      "outputs": [
        {
          "output_type": "display_data",
          "data": {
            "image/png": "[encoded data removed]",
            "text/plain": [
              "<Figure size 576x360 with 1 Axes>"
            ]
          },
          "metadata": {
            "tags": [],
            "needs_background": "light"
          }
        }
      ]
    },
    {
      "cell_type": "markdown",
      "metadata": {
        "id": "onxX9sucrSY8"
      },
      "source": [
        "Based on the information shown in the histogram, the data is generally well balanced across all label IDs. The number of samples for labels 0, 2, 3, 4, 5, 7, and 8 are around the same. However, labels 1 and 6 are underrepresented with respect to the other labels by a ratio of 2-to-1. From this, we can expect the model to underperform relative to the other classes during validation and testing. Since there is no easy way to oversample these underrepresented classes, and undersampling will eliminate most of the dataset, we will accept these shortcomings and use the dataset the way it came."
      ]
    },
    {
      "cell_type": "markdown",
      "metadata": {
        "id": "SzWS2Zctw1GU"
      },
      "source": [
        "### 4. Training, Validation and Test Dataset Split"
      ]
    },
    {
      "cell_type": "markdown",
      "metadata": {
        "id": "sWe6_EzuV4JL"
      },
      "source": [
        "After we have done the EDA, we will now process process the audio in the .wav files and manipulate the data to prepare it for deep learning. Typically in a machine learning project, the training-validation-test split would be 80-10-10 in terms of percentages. To get this data split proportion, we extract every 9th .wav file for the validation set and every 10th .wav file for the test set within every class label. This would ensure that the distribution of the labels remain consistent throughout training, validation, and test datasets."
      ]
    },
    {
      "cell_type": "code",
      "metadata": {
        "id": "ud0yOBWxasd8"
      },
      "source": [
        "# We want to seperate the .wav files based on label id.\n",
        "label_ids = {\n",
        "     0: [],\n",
        "     1: [],\n",
        "     2: [],\n",
        "     3: [],\n",
        "     4: [], \n",
        "     5: [],\n",
        "     6: [],\n",
        "     7: [],\n",
        "     8: [],\n",
        "     9: []\n",
        "}"
      ],
      "execution_count": null,
      "outputs": []
    },
    {
      "cell_type": "code",
      "metadata": {
        "id": "qS9_qK49bBK_"
      },
      "source": [
        "def populate_id_dict():\n",
        "    # This script would return a dictionary that would store the .wav file path based on their label id.\n",
        "    for sound in AUDIO_DATA:  \n",
        "        sound_path = os.path.join(AUDIO_DATASET, sound)\n",
        "        label = sound[-5]\n",
        "        label_ids[int(label)].append(sound_path)"
      ],
      "execution_count": null,
      "outputs": []
    },
    {
      "cell_type": "code",
      "metadata": {
        "id": "Ws3UZvPjjZb3"
      },
      "source": [
        "populate_id_dict()"
      ],
      "execution_count": null,
      "outputs": []
    },
    {
      "cell_type": "code",
      "metadata": {
        "id": "b99qH6G6bxVv"
      },
      "source": [
        "# We want to split the audio dataset into a 80-10-10 training-validation-test split.\n",
        "\n",
        "# We want to store the file paths of the individual audio file paths for each of the 3 sub datasets.\n",
        "trainset_files = [] # This is for storing paths of the training set.\n",
        "validset_files = [] # This is for storing paths of the validation set.\n",
        "testset_files = [] # This is for storing paths of the test set.\n",
        "\n",
        "# We want to extract every 9th file for the validation set and every 10th for the test set\n",
        "# for each label id class.\n",
        "# This should distribute the data by it's class labels proportionally across all datasets.\n",
        "for label, files in label_ids.items():\n",
        "    for i, sound in enumerate(files):   \n",
        "        if (i+1) % 10 == 9:\n",
        "            validset_files.append(sound)\n",
        "        elif (i+1) % 10 == 0:\n",
        "            testset_files.append(sound)\n",
        "        else:\n",
        "            trainset_files.append(sound)"
      ],
      "execution_count": null,
      "outputs": []
    },
    {
      "cell_type": "code",
      "metadata": {
        "id": "JfWBAJGOfEDn"
      },
      "source": [
        "# We want to shuffle the data paths for each dataset.\n",
        "# This would allow faster convergence during model training.\n",
        "shuffle(trainset_files)\n",
        "shuffle(validset_files)\n",
        "shuffle(testset_files)"
      ],
      "execution_count": null,
      "outputs": []
    },
    {
      "cell_type": "markdown",
      "metadata": {
        "id": "94G2Mi_Cifil"
      },
      "source": [
        "###5. Data Manipulation"
      ]
    },
    {
      "cell_type": "markdown",
      "metadata": {
        "id": "sk9ksJ8qt3M2"
      },
      "source": [
        "The purpose of the data manipulation is to prepare it for deep learning.\n",
        "In this case, the Librosa library does a lot of the work extracting the amplitudes from the .wav files. We still need to set a number of features for the library to extract to be used for the model. I have decided to keep the final dataset simple and make it a 2-D array. Each row would represent single .wav file. This would also allow us to do batch SGD during training."
      ]
    },
    {
      "cell_type": "code",
      "metadata": {
        "id": "jBk5sWSSTGjX"
      },
      "source": [
        "# In accordance to standard approach, we are going to limit the number of feature measurements to 100.\n",
        "\n",
        "FEATURE_LEN = 100"
      ],
      "execution_count": null,
      "outputs": []
    },
    {
      "cell_type": "code",
      "metadata": {
        "id": "QknQNBa2n7IU"
      },
      "source": [
        "def extract_label_id(sound):\n",
        "    '''\n",
        "    This helper function is used to extract the label of the .wav file.\n",
        "\n",
        "    Input: the relative path of the .wav file in string type.\n",
        "    Output: an integer label of the audio file.\n",
        "    '''\n",
        "    label_id = sound[-5]\n",
        "    return int(label_id)"
      ],
      "execution_count": null,
      "outputs": []
    },
    {
      "cell_type": "code",
      "metadata": {
        "id": "axc_VGDTo1oY"
      },
      "source": [
        "def feature_extraction(sound_path):\n",
        "    '''\n",
        "    This helper function extracts the audio amplitudes and features from the .wav \n",
        "    file using Librosa. 'None' is passed in as the target_sample_rate since it \n",
        "    allows for fast loading and provides automatic normalization of the amplitudes. \n",
        "    One key detail that should be noted is that Librosa doesn't return arrays at a\n",
        "    consistent length. This issue will be addressed later on. \n",
        "\n",
        "    The featurs that we are extracting here are the audio's Mel-Frequency Cepstral \n",
        "    Coefficients (MFCCS). These are a spectral representation of an audio clip that\n",
        "    can be analyzed like an image.\n",
        "\n",
        "    Inputs: the relative path of the .wav file in string type, and the sampling rate.\n",
        "    Output: the audio file's MFCCS features in a numpy array form.\n",
        "    '''\n",
        "\n",
        "    # Audio Extraction.\n",
        "    audio, sample_rate = librosa.load(sound_path, sr=None) \n",
        "    # Feature Extraction.\n",
        "    mfccs = librosa.feature.mfcc(y=audio, sr=sample_rate, n_mfcc=100)\n",
        "    # Averging among the individua feature coefficient columns.\n",
        "    mfccs_avg = np.mean(mfccs,axis=1).reshape(-1, FEATURE_LEN)\n",
        "    return mfccs_avg"
      ],
      "execution_count": null,
      "outputs": []
    },
    {
      "cell_type": "code",
      "metadata": {
        "id": "yR9J4kU1pZ_0"
      },
      "source": [
        "def stack_and_concat_data(temp, audio_stack):\n",
        "    '''\n",
        "    This is a helper function that is used for the development of the 2-D array datasets.\n",
        "    It stacks the list of feature arrays into a 2D array that can be used for \n",
        "    deep learning.\n",
        "\n",
        "    input: temporary array for holding feature arrays and the final audio stack.\n",
        "    output: the final concatenated audio stack used for DL.\n",
        "    '''\n",
        "    array_stack = np.stack(temp,axis=0).reshape(-1,FEATURE_LEN)\n",
        "    audio_stack = np.concatenate([audio_stack, array_stack], axis=0)\n",
        "    return audio_stack"
      ],
      "execution_count": null,
      "outputs": []
    },
    {
      "cell_type": "code",
      "metadata": {
        "id": "kHnchD98EQmW"
      },
      "source": [
        "def concatenate_audio(audio_files):\n",
        "    '''\n",
        "    This function is meant to extract the audio from the .wav files and manipulate \n",
        "    them into a format that can be used for deep learning. This function has several\n",
        "    key components: label id extraction, amplitude and feature extraction, and \n",
        "    concatenation. We want to batch concatenate in feature array batches of 1000 at a time. \n",
        "    This is done mainly for computation speed. The speed of the Numpy concatenation method \n",
        "    doesn't differ that much between a few and 1000 dataframes, and it's much faster to \n",
        "    do them in bulk than one at a time.\n",
        "\n",
        "    input: relative paths for each of audio file datasets.\n",
        "    output: the DL datasets and their labels.\n",
        "    '''\n",
        "\n",
        "    audio_stack = np.array([])\n",
        "    audio_list = []\n",
        "    audio_label = []\n",
        "\n",
        "    # Using the GPU:\n",
        "    with tf.device('/device:GPU:0'):\n",
        "        # We have to iterate through all the .wav file paths to be processed.\n",
        "        for audio_file in audio_files:\n",
        "            # Gets the label ids of each .wav file.\n",
        "            label_id = extract_label_id(audio_file)\n",
        "            audio_label.append(label_id)\n",
        "            # Extracts the audio features from the .wav file.\n",
        "            processed_audio = feature_extraction(audio_file)\n",
        "            # We use this temporary list for storing every 1000 feature\n",
        "            # arrays for speed.\n",
        "            audio_list.append(processed_audio)\n",
        "            # We want to be able to initialize the final audio array stack dataset\n",
        "            # like this due to the nature of Numpy concatenate.\n",
        "            if len(audio_stack) == 0:\n",
        "                print(\"Initializing the data stack.....\")\n",
        "                audio_stack = processed_audio \n",
        "            # Every 1000 arrays in the temporary list, we would concatenate it\n",
        "            # to the main data stack and reset the temporary list.\n",
        "            elif len(audio_list) == 1000:\n",
        "                print(\"Adding to data stack.....\")\n",
        "                audio_stack = stack_and_concat_data(audio_list, audio_stack)\n",
        "            # We reset the temporary list of audio arrays.\n",
        "            audio_list = []\n",
        "        # If the temporary list doesn't have 1000 arrays, we just concatenate the\n",
        "        # remaining to the final dataset.\n",
        "        audio_stack = stack_and_concat_data(audio_list, audio_stack)\n",
        "        return audio_stack, audio_label"
      ],
      "execution_count": null,
      "outputs": []
    },
    {
      "cell_type": "code",
      "metadata": {
        "id": "YVlY-w2GESBO"
      },
      "source": [
        "# Creating the training, validation, and test datasets:\n",
        "training, train_label = concatenate_audio(trainset_files)\n",
        "validation, valid_label = concatenate_audio(validset_files)\n",
        "test, test_label = concatenate_audio(testset_files)"
      ],
      "execution_count": null,
      "outputs": []
    },
    {
      "cell_type": "code",
      "metadata": {
        "id": "KbpB29OpALrX"
      },
      "source": [
        "# We want to reshape the training, validation, and test sets to fit the dimensions of the CNN.\n",
        "training, validation, test = training.reshape(len(trainset_files), FEATURE_LEN, 1), validation.reshape(len(validset_files), FEATURE_LEN, 1), test.reshape(len(testset_files), FEATURE_LEN, 1)"
      ],
      "execution_count": null,
      "outputs": []
    },
    {
      "cell_type": "code",
      "metadata": {
        "id": "jAuLvV6_S4rS"
      },
      "source": [
        "# We also want to one hot encode the labels for all 3 datasets.\n",
        "train_label = tf.keras.utils.to_categorical(train_label)\n",
        "valid_label = tf.keras.utils.to_categorical(valid_label)\n",
        "test_label = tf.keras.utils.to_categorical(test_label)"
      ],
      "execution_count": null,
      "outputs": []
    },
    {
      "cell_type": "markdown",
      "metadata": {
        "id": "dlNZcWtfs-Jd"
      },
      "source": [
        "We also want to check the dimensions of all the datasets that we have created."
      ]
    },
    {
      "cell_type": "code",
      "metadata": {
        "id": "fedUH6cl1Sy2",
        "colab": {
          "base_uri": "https://localhost:8080/"
        },
        "outputId": "ce24125c-10e9-43e7-a949-a7641afa25ea"
      },
      "source": [
        "print(training.shape)\n",
        "print(validation.shape)\n",
        "print(test.shape)"
      ],
      "execution_count": null,
      "outputs": [
        {
          "output_type": "stream",
          "text": [
            "(6988, 100, 1)\n",
            "(873, 100, 1)\n",
            "(871, 100, 1)\n"
          ],
          "name": "stdout"
        }
      ]
    },
    {
      "cell_type": "code",
      "metadata": {
        "id": "xysWKSAe1VyP",
        "colab": {
          "base_uri": "https://localhost:8080/"
        },
        "outputId": "27c286cc-98c3-4a25-c6e9-0807280418a8"
      },
      "source": [
        "print(train_label.shape)\n",
        "print(valid_label.shape)\n",
        "print(test_label.shape)"
      ],
      "execution_count": null,
      "outputs": [
        {
          "output_type": "stream",
          "text": [
            "(6988, 10)\n",
            "(873, 10)\n",
            "(871, 10)\n"
          ],
          "name": "stdout"
        }
      ]
    },
    {
      "cell_type": "markdown",
      "metadata": {
        "id": "xIXU1iYWF_hc"
      },
      "source": [
        "### 6. Baseline Model"
      ]
    },
    {
      "cell_type": "markdown",
      "metadata": {
        "id": "w-mDVR4hO6sG"
      },
      "source": [
        "We want to start off with a baseline model. The baseline model should be simple to interpret and train. We have decided to go with a CNN. We chose a CNN because it is commonly used audio processing. A CNN also has the advantage of being able to capture the unique features of a particular class. In this case, it would be feature patterns at certain areas of the array."
      ]
    },
    {
      "cell_type": "markdown",
      "metadata": {
        "id": "odiKyFkTIoBv"
      },
      "source": [
        "The baseline model will have 4 convolution layers. The number of filters are 128, 64, 64, and 32. We chose these numbers as it is common to be using filter numbers of 32, 64, 128 and so on initially as default. After each convolution layer, we add a size 4 1D max pooling layer. These max pooling layers are for capturing key amplitude features within the audio arrays for distinct features. Padding is added before each convolution layer if needed for the kernels. All parameters within the layers are Xavier Glorot initialized to prevent gradient explosion or vanishing. L2 Regularization of the standard 0.01 was added to prevent overfitting. A final connected layer was added after the convolution layers as a final processing layer before the softmax classification at the end."
      ]
    },
    {
      "cell_type": "code",
      "metadata": {
        "id": "mDx0-Xt98N0W"
      },
      "source": [
        "def baseline():\n",
        "    baseline = tf.keras.models.Sequential()\n",
        "    # First Convolution Layer.\n",
        "    baseline.add(tf.keras.layers.Conv1D(128,\n",
        "                 input_shape=[100,1],\n",
        "                 kernel_size=5,\n",
        "                 strides=2,\n",
        "                 padding='same',\n",
        "                 kernel_initializer='glorot_uniform'))\n",
        "    # Second Convolution Layer.\n",
        "    baseline.add(tf.keras.layers.Conv1D(64,\n",
        "                 kernel_size=4,\n",
        "                 strides=1,\n",
        "                 padding='same',\n",
        "                 kernel_initializer='glorot_uniform'))\n",
        "    # Third Convolution Layer.\n",
        "    baseline.add(tf.keras.layers.Conv1D(64,\n",
        "                 kernel_size=4,\n",
        "                 strides=1,\n",
        "                 padding='same',\n",
        "                 kernel_initializer='glorot_uniform'))\n",
        "    # Last Convolution Layer.\n",
        "    baseline.add(tf.keras.layers.Conv1D(32,\n",
        "                 kernel_size=3,\n",
        "                 strides=1,\n",
        "                 padding='same',\n",
        "                 kernel_initializer='glorot_uniform'))\n",
        "    baseline.add(tf.keras.layers.Reshape((1600,)))\n",
        "    # Final softmax layer for final classification over 10 classes.\n",
        "    baseline.add(tf.keras.layers.Dense(10, activation='softmax'))\n",
        "    return baseline"
      ],
      "execution_count": null,
      "outputs": []
    },
    {
      "cell_type": "code",
      "metadata": {
        "id": "HISllVCU9pct"
      },
      "source": [
        "batchsize = 128  # Batch size: the standard batch sizes are 64, 128, 256. We want to start somewhere in the middle so we can adjust.\n",
        "epochs = 30 # We can set the number of epochs to train for to be 30 for now.\n",
        "l_r = 1e-03  # Learning rate: the learning rate is usually logarithmically changed between 1e-07 to 0.1. 0.001 seems to be a good place to start.\n",
        "\n",
        "optimizer = tf.keras.optimizers.Adam(learning_rate = l_r) # Adam is computational efficient and requires little memory.\n",
        "ce_loss = tf.keras.losses.categorical_crossentropy # This is a good loss metric for multiple one-hot encoded classes.\n",
        "accuracy_metric = tf.keras.metrics.CategoricalAccuracy() # This is a good accuracy metric for multiple one-hot encoded classes."
      ],
      "execution_count": null,
      "outputs": []
    },
    {
      "cell_type": "code",
      "metadata": {
        "id": "QXntSnusF10L"
      },
      "source": [
        "baseline = baseline() # Compiling the model.\n",
        "baseline.compile(optimizer=optimizer, loss=ce_loss, metrics=[accuracy_metric])"
      ],
      "execution_count": null,
      "outputs": []
    },
    {
      "cell_type": "code",
      "metadata": {
        "colab": {
          "base_uri": "https://localhost:8080/"
        },
        "id": "ukVX4U9RQcWj",
        "outputId": "6c5859bc-040e-47a0-d6f0-4ecc3a4dda1b"
      },
      "source": [
        "# Checking the parameters of the model.\n",
        "baseline.summary()"
      ],
      "execution_count": null,
      "outputs": [
        {
          "output_type": "stream",
          "text": [
            "Model: \"sequential_7\"\n",
            "_________________________________________________________________\n",
            "Layer (type)                 Output Shape              Param #   \n",
            "=================================================================\n",
            "conv1d_28 (Conv1D)           (None, 50, 128)           768       \n",
            "_________________________________________________________________\n",
            "conv1d_29 (Conv1D)           (None, 50, 64)            32832     \n",
            "_________________________________________________________________\n",
            "conv1d_30 (Conv1D)           (None, 50, 64)            16448     \n",
            "_________________________________________________________________\n",
            "conv1d_31 (Conv1D)           (None, 50, 32)            6176      \n",
            "_________________________________________________________________\n",
            "reshape_7 (Reshape)          (None, 1600)              0         \n",
            "_________________________________________________________________\n",
            "dense_7 (Dense)              (None, 10)                16010     \n",
            "=================================================================\n",
            "Total params: 72,234\n",
            "Trainable params: 72,234\n",
            "Non-trainable params: 0\n",
            "_________________________________________________________________\n"
          ],
          "name": "stdout"
        }
      ]
    },
    {
      "cell_type": "code",
      "metadata": {
        "id": "Av0yy1mDeKEE"
      },
      "source": [
        "from keras.callbacks import ReduceLROnPlateau # This is used to adjust learning rate."
      ],
      "execution_count": null,
      "outputs": []
    },
    {
      "cell_type": "code",
      "metadata": {
        "id": "hyuMUx649rug",
        "colab": {
          "base_uri": "https://localhost:8080/"
        },
        "outputId": "011bdd96-d262-4905-9f6e-343ef1a4c1dc"
      },
      "source": [
        "# This is a callback that reduces the learning rate by a factor of half if the validation accuracy doesn't increase within 5 epochs.\n",
        "reduce_lr = ReduceLROnPlateau(monitor='val_categorical_accuracy', factor=0.5, patience=5, min_lr=0.0000001, verbose=1)\n",
        "\n",
        "# Commences training of the model.\n",
        "with tf.device('/device:GPU:0'):\n",
        "    history = baseline.fit(x=training, y=train_label, batch_size=batchsize, epochs=epochs,\n",
        "                           validation_data=(validation, valid_label), \n",
        "                           shuffle=True, initial_epoch=0, callbacks=[reduce_lr])\n",
        "\n",
        "# We want a place to store the training and validation loss and accuracy.\n",
        "training_loss = history.history['loss']\n",
        "training_accuracy = history.history['categorical_accuracy']\n",
        "valid_loss = history.history['val_loss']\n",
        "valid_accuracy = history.history['val_categorical_accuracy']"
      ],
      "execution_count": null,
      "outputs": [
        {
          "output_type": "stream",
          "text": [
            "Epoch 1/30\n",
            "55/55 [==============================] - 6s 96ms/step - loss: 3.0347 - categorical_accuracy: 0.3134 - val_loss: 1.2410 - val_categorical_accuracy: 0.5991\n",
            "Epoch 2/30\n",
            "55/55 [==============================] - 5s 89ms/step - loss: 1.1784 - categorical_accuracy: 0.6167 - val_loss: 1.1793 - val_categorical_accuracy: 0.6289\n",
            "Epoch 3/30\n",
            "55/55 [==============================] - 5s 90ms/step - loss: 1.0929 - categorical_accuracy: 0.6486 - val_loss: 1.1532 - val_categorical_accuracy: 0.6300\n",
            "Epoch 4/30\n",
            "55/55 [==============================] - 5s 87ms/step - loss: 1.0767 - categorical_accuracy: 0.6494 - val_loss: 1.1184 - val_categorical_accuracy: 0.6529\n",
            "Epoch 5/30\n",
            "55/55 [==============================] - 5s 87ms/step - loss: 1.0272 - categorical_accuracy: 0.6690 - val_loss: 1.1422 - val_categorical_accuracy: 0.6174\n",
            "Epoch 6/30\n",
            "55/55 [==============================] - 5s 88ms/step - loss: 1.0172 - categorical_accuracy: 0.6731 - val_loss: 1.1305 - val_categorical_accuracy: 0.6289\n",
            "Epoch 7/30\n",
            "55/55 [==============================] - 5s 89ms/step - loss: 1.0035 - categorical_accuracy: 0.6731 - val_loss: 1.1437 - val_categorical_accuracy: 0.6277\n",
            "Epoch 8/30\n",
            "55/55 [==============================] - 5s 88ms/step - loss: 1.0343 - categorical_accuracy: 0.6591 - val_loss: 1.1143 - val_categorical_accuracy: 0.6506\n",
            "Epoch 9/30\n",
            "55/55 [==============================] - 5s 92ms/step - loss: 0.9943 - categorical_accuracy: 0.6822 - val_loss: 1.0706 - val_categorical_accuracy: 0.6632\n",
            "Epoch 10/30\n",
            "55/55 [==============================] - 5s 92ms/step - loss: 0.9752 - categorical_accuracy: 0.6859 - val_loss: 1.1133 - val_categorical_accuracy: 0.6403\n",
            "Epoch 11/30\n",
            "55/55 [==============================] - 5s 93ms/step - loss: 0.9981 - categorical_accuracy: 0.6852 - val_loss: 1.0739 - val_categorical_accuracy: 0.6678\n",
            "Epoch 12/30\n",
            "55/55 [==============================] - 5s 92ms/step - loss: 0.9476 - categorical_accuracy: 0.6962 - val_loss: 1.0887 - val_categorical_accuracy: 0.6529\n",
            "Epoch 13/30\n",
            "55/55 [==============================] - 5s 97ms/step - loss: 0.9642 - categorical_accuracy: 0.6919 - val_loss: 1.0823 - val_categorical_accuracy: 0.6552\n",
            "Epoch 14/30\n",
            "55/55 [==============================] - 5s 95ms/step - loss: 0.9680 - categorical_accuracy: 0.6830 - val_loss: 1.0925 - val_categorical_accuracy: 0.6518\n",
            "Epoch 15/30\n",
            "55/55 [==============================] - 5s 97ms/step - loss: 1.0110 - categorical_accuracy: 0.6712 - val_loss: 1.1058 - val_categorical_accuracy: 0.6472\n",
            "Epoch 16/30\n",
            "55/55 [==============================] - 5s 91ms/step - loss: 0.9446 - categorical_accuracy: 0.6973 - val_loss: 1.0629 - val_categorical_accuracy: 0.6632\n",
            "\n",
            "Epoch 00016: ReduceLROnPlateau reducing learning rate to 0.0005000000237487257.\n",
            "Epoch 17/30\n",
            "55/55 [==============================] - 5s 91ms/step - loss: 0.9095 - categorical_accuracy: 0.7019 - val_loss: 1.0438 - val_categorical_accuracy: 0.6735\n",
            "Epoch 18/30\n",
            "55/55 [==============================] - 5s 91ms/step - loss: 0.9093 - categorical_accuracy: 0.7148 - val_loss: 1.0434 - val_categorical_accuracy: 0.6793\n",
            "Epoch 19/30\n",
            "55/55 [==============================] - 5s 92ms/step - loss: 0.8976 - categorical_accuracy: 0.7125 - val_loss: 1.0561 - val_categorical_accuracy: 0.6735\n",
            "Epoch 20/30\n",
            "55/55 [==============================] - 5s 93ms/step - loss: 0.9275 - categorical_accuracy: 0.7006 - val_loss: 1.0491 - val_categorical_accuracy: 0.6712\n",
            "Epoch 21/30\n",
            "55/55 [==============================] - 5s 95ms/step - loss: 0.9208 - categorical_accuracy: 0.7065 - val_loss: 1.0879 - val_categorical_accuracy: 0.6438\n",
            "Epoch 22/30\n",
            "55/55 [==============================] - 5s 87ms/step - loss: 0.9328 - categorical_accuracy: 0.7067 - val_loss: 1.1013 - val_categorical_accuracy: 0.6300\n",
            "Epoch 23/30\n",
            "55/55 [==============================] - 5s 88ms/step - loss: 0.9393 - categorical_accuracy: 0.7034 - val_loss: 1.0569 - val_categorical_accuracy: 0.6564\n",
            "\n",
            "Epoch 00023: ReduceLROnPlateau reducing learning rate to 0.0002500000118743628.\n",
            "Epoch 24/30\n",
            "55/55 [==============================] - 5s 85ms/step - loss: 0.9004 - categorical_accuracy: 0.7151 - val_loss: 1.0346 - val_categorical_accuracy: 0.6861\n",
            "Epoch 25/30\n",
            "55/55 [==============================] - 5s 84ms/step - loss: 0.8991 - categorical_accuracy: 0.7124 - val_loss: 1.0372 - val_categorical_accuracy: 0.6770\n",
            "Epoch 26/30\n",
            "55/55 [==============================] - 5s 85ms/step - loss: 0.8815 - categorical_accuracy: 0.7239 - val_loss: 1.0465 - val_categorical_accuracy: 0.6678\n",
            "Epoch 27/30\n",
            "55/55 [==============================] - 5s 87ms/step - loss: 0.8929 - categorical_accuracy: 0.7117 - val_loss: 1.0591 - val_categorical_accuracy: 0.6644\n",
            "Epoch 28/30\n",
            "55/55 [==============================] - 5s 86ms/step - loss: 0.9220 - categorical_accuracy: 0.7064 - val_loss: 1.0462 - val_categorical_accuracy: 0.6781\n",
            "Epoch 29/30\n",
            "55/55 [==============================] - 5s 89ms/step - loss: 0.9007 - categorical_accuracy: 0.7182 - val_loss: 1.0438 - val_categorical_accuracy: 0.6781\n",
            "\n",
            "Epoch 00029: ReduceLROnPlateau reducing learning rate to 0.0001250000059371814.\n",
            "Epoch 30/30\n",
            "55/55 [==============================] - 5s 87ms/step - loss: 0.8789 - categorical_accuracy: 0.7252 - val_loss: 1.0378 - val_categorical_accuracy: 0.6804\n"
          ],
          "name": "stdout"
        }
      ]
    },
    {
      "cell_type": "markdown",
      "metadata": {
        "id": "MiAJv8WeXI25"
      },
      "source": [
        "We seem to have a proper baseline model for experimentation at this point. The training accuracy seems to have reached a relatively high accuracy within 30 epochs, finalizing at 72.98%. However, the validation accuracy has plateaued between 63% to 68% early on at around 5 epochs. Thie clearly shows that the model is overfitting. We will discuss how to mitigate these problems in the next section. "
      ]
    },
    {
      "cell_type": "markdown",
      "metadata": {
        "id": "3iDjFH2IX-pG"
      },
      "source": [
        "### 7. Improvement Models"
      ]
    },
    {
      "cell_type": "markdown",
      "metadata": {
        "id": "37Lz_sembLQM"
      },
      "source": [
        "To mitigate overfitting, we are going to apply L2 regularization on  each convolution layer and ReLu activation after each convolution layer to help reduce overfitting. This should allow the validation accuracy to progress and keep up with the training accuracy."
      ]
    },
    {
      "cell_type": "code",
      "metadata": {
        "id": "--KqqjO3YC_y"
      },
      "source": [
        "def model1():\n",
        "    model1 = tf.keras.models.Sequential()\n",
        "    # First Convolution Layer.\n",
        "    model1.add(tf.keras.layers.Conv1D(128,\n",
        "                 input_shape=[100,1],\n",
        "                 kernel_size=5,\n",
        "                 strides=2,\n",
        "                 padding='same',\n",
        "                 kernel_initializer='glorot_uniform',\n",
        "                 kernel_regularizer=tf.keras.regularizers.l2(l=0.01)))\n",
        "    # ReLu activation added.\n",
        "    model1.add(tf.keras.layers.Activation('relu'))\n",
        "    # Second Convolution Layer.\n",
        "    model1.add(tf.keras.layers.Conv1D(64,\n",
        "                 kernel_size=4,\n",
        "                 strides=1,\n",
        "                 padding='same',\n",
        "                 kernel_initializer='glorot_uniform',\n",
        "                 kernel_regularizer=tf.keras.regularizers.l2(l=0.01)))\n",
        "    # ReLu activation added.\n",
        "    model1.add(tf.keras.layers.Activation('relu'))\n",
        "    # Third Convolution Layer.\n",
        "    model1.add(tf.keras.layers.Conv1D(64,\n",
        "                 kernel_size=4,\n",
        "                 strides=1,\n",
        "                 padding='same',\n",
        "                 kernel_initializer='glorot_uniform',\n",
        "                 kernel_regularizer=tf.keras.regularizers.l2(l=0.01)))\n",
        "    # ReLu activation added.\n",
        "    model1.add(tf.keras.layers.Activation('relu'))\n",
        "    # Last Convolution Layer.\n",
        "    model1.add(tf.keras.layers.Conv1D(32,\n",
        "                 kernel_size=3,\n",
        "                 strides=1,\n",
        "                 padding='same',\n",
        "                 kernel_initializer='glorot_uniform',\n",
        "                 kernel_regularizer=tf.keras.regularizers.l2(l=0.01)))\n",
        "    # ReLu activation added.\n",
        "    model1.add(tf.keras.layers.Activation('relu'))\n",
        "    model1.add(tf.keras.layers.Reshape((1600,)))\n",
        "    # Final softmax layer for final classification over 10 classes.\n",
        "    model1.add(tf.keras.layers.Dense(10, activation='softmax'))\n",
        "    return model1"
      ],
      "execution_count": null,
      "outputs": []
    },
    {
      "cell_type": "code",
      "metadata": {
        "id": "O_vupZd5qp6l"
      },
      "source": [
        "# We need to reset the optimizer, loss function, and accuracy metric for each model.\n",
        "optimizer = tf.keras.optimizers.Adam(learning_rate = l_r) # Adam is computational efficient and requires little memory.\n",
        "ce_loss = tf.keras.losses.categorical_crossentropy # This is a good loss metric for multiple one-hot encoded classes.\n",
        "accuracy_metric = tf.keras.metrics.CategoricalAccuracy() # This is a good accuracy metric for multiple one-hot encoded classes."
      ],
      "execution_count": null,
      "outputs": []
    },
    {
      "cell_type": "code",
      "metadata": {
        "id": "r2CVQ_TLYz6h"
      },
      "source": [
        "model1 = model1() # Compiling the model.\n",
        "model1.compile(optimizer=optimizer, loss=ce_loss, metrics=[accuracy_metric])"
      ],
      "execution_count": null,
      "outputs": []
    },
    {
      "cell_type": "code",
      "metadata": {
        "id": "XK18lUgO0Xw8",
        "colab": {
          "base_uri": "https://localhost:8080/"
        },
        "outputId": "abbb8545-3771-4c06-bc3f-26bfd2ae7196"
      },
      "source": [
        "model1.summary()"
      ],
      "execution_count": null,
      "outputs": [
        {
          "output_type": "stream",
          "text": [
            "Model: \"sequential_8\"\n",
            "_________________________________________________________________\n",
            "Layer (type)                 Output Shape              Param #   \n",
            "=================================================================\n",
            "conv1d_32 (Conv1D)           (None, 50, 128)           768       \n",
            "_________________________________________________________________\n",
            "activation_8 (Activation)    (None, 50, 128)           0         \n",
            "_________________________________________________________________\n",
            "conv1d_33 (Conv1D)           (None, 50, 64)            32832     \n",
            "_________________________________________________________________\n",
            "activation_9 (Activation)    (None, 50, 64)            0         \n",
            "_________________________________________________________________\n",
            "conv1d_34 (Conv1D)           (None, 50, 64)            16448     \n",
            "_________________________________________________________________\n",
            "activation_10 (Activation)   (None, 50, 64)            0         \n",
            "_________________________________________________________________\n",
            "conv1d_35 (Conv1D)           (None, 50, 32)            6176      \n",
            "_________________________________________________________________\n",
            "activation_11 (Activation)   (None, 50, 32)            0         \n",
            "_________________________________________________________________\n",
            "reshape_8 (Reshape)          (None, 1600)              0         \n",
            "_________________________________________________________________\n",
            "dense_8 (Dense)              (None, 10)                16010     \n",
            "=================================================================\n",
            "Total params: 72,234\n",
            "Trainable params: 72,234\n",
            "Non-trainable params: 0\n",
            "_________________________________________________________________\n"
          ],
          "name": "stdout"
        }
      ]
    },
    {
      "cell_type": "code",
      "metadata": {
        "id": "eCt6FTP1ZIM3",
        "colab": {
          "base_uri": "https://localhost:8080/"
        },
        "outputId": "d40509f3-ac49-4421-98e6-fc96875eb214"
      },
      "source": [
        "# This is a callback that reduces the learning rate by a factor of half if the validation accuracy doesn't increase within 5 epochs.\n",
        "reduce_lr = ReduceLROnPlateau(monitor='val_categorical_accuracy', factor=0.5, patience=5, min_lr=0.0000001, verbose=1)\n",
        "\n",
        "# Commences training of the model.\n",
        "with tf.device('/device:GPU:0'):\n",
        "    history_2 = model1.fit(x=training, y=train_label, batch_size=batchsize, epochs=epochs,\n",
        "                           validation_data=(validation, valid_label), \n",
        "                           shuffle=True, initial_epoch=0, callbacks=[reduce_lr])\n",
        "\n",
        "# We want a place to store the training and validation loss and accuracy.\n",
        "training_loss = history_2.history['loss']\n",
        "training_accuracy = history_2.history['categorical_accuracy']\n",
        "valid_loss = history_2.history['val_loss']\n",
        "valid_accuracy = history_2.history['val_categorical_accuracy']"
      ],
      "execution_count": null,
      "outputs": [
        {
          "output_type": "stream",
          "text": [
            "Epoch 1/30\n",
            "55/55 [==============================] - 6s 95ms/step - loss: 3.6214 - categorical_accuracy: 0.3539 - val_loss: 2.3327 - val_categorical_accuracy: 0.6312\n",
            "Epoch 2/30\n",
            "55/55 [==============================] - 5s 91ms/step - loss: 2.1012 - categorical_accuracy: 0.6832 - val_loss: 1.8262 - val_categorical_accuracy: 0.7068\n",
            "Epoch 3/30\n",
            "55/55 [==============================] - 5s 89ms/step - loss: 1.6035 - categorical_accuracy: 0.7653 - val_loss: 1.5174 - val_categorical_accuracy: 0.7617\n",
            "Epoch 4/30\n",
            "55/55 [==============================] - 5s 90ms/step - loss: 1.3543 - categorical_accuracy: 0.8116 - val_loss: 1.3270 - val_categorical_accuracy: 0.8064\n",
            "Epoch 5/30\n",
            "55/55 [==============================] - 5s 91ms/step - loss: 1.1843 - categorical_accuracy: 0.8355 - val_loss: 1.1812 - val_categorical_accuracy: 0.8202\n",
            "Epoch 6/30\n",
            "55/55 [==============================] - 5s 88ms/step - loss: 1.0388 - categorical_accuracy: 0.8604 - val_loss: 1.1508 - val_categorical_accuracy: 0.8144\n",
            "Epoch 7/30\n",
            "55/55 [==============================] - 5s 88ms/step - loss: 0.9526 - categorical_accuracy: 0.8757 - val_loss: 1.0656 - val_categorical_accuracy: 0.8351\n",
            "Epoch 8/30\n",
            "55/55 [==============================] - 5s 89ms/step - loss: 0.8847 - categorical_accuracy: 0.8883 - val_loss: 0.9865 - val_categorical_accuracy: 0.8568\n",
            "Epoch 9/30\n",
            "55/55 [==============================] - 5s 89ms/step - loss: 0.8207 - categorical_accuracy: 0.8879 - val_loss: 0.9458 - val_categorical_accuracy: 0.8488\n",
            "Epoch 10/30\n",
            "55/55 [==============================] - 5s 91ms/step - loss: 0.7534 - categorical_accuracy: 0.9115 - val_loss: 0.9132 - val_categorical_accuracy: 0.8557\n",
            "Epoch 11/30\n",
            "55/55 [==============================] - 5s 92ms/step - loss: 0.7048 - categorical_accuracy: 0.9155 - val_loss: 0.9145 - val_categorical_accuracy: 0.8580\n",
            "Epoch 12/30\n",
            "55/55 [==============================] - 5s 91ms/step - loss: 0.6744 - categorical_accuracy: 0.9173 - val_loss: 0.8381 - val_categorical_accuracy: 0.8706\n",
            "Epoch 13/30\n",
            "55/55 [==============================] - 5s 92ms/step - loss: 0.6432 - categorical_accuracy: 0.9300 - val_loss: 0.8199 - val_categorical_accuracy: 0.8625\n",
            "Epoch 14/30\n",
            "55/55 [==============================] - 5s 96ms/step - loss: 0.6166 - categorical_accuracy: 0.9330 - val_loss: 0.8149 - val_categorical_accuracy: 0.8740\n",
            "Epoch 15/30\n",
            "55/55 [==============================] - 5s 94ms/step - loss: 0.6068 - categorical_accuracy: 0.9297 - val_loss: 0.7974 - val_categorical_accuracy: 0.8751\n",
            "Epoch 16/30\n",
            "55/55 [==============================] - 5s 95ms/step - loss: 0.5696 - categorical_accuracy: 0.9414 - val_loss: 0.7791 - val_categorical_accuracy: 0.8774\n",
            "Epoch 17/30\n",
            "55/55 [==============================] - 5s 95ms/step - loss: 0.5507 - categorical_accuracy: 0.9369 - val_loss: 0.8102 - val_categorical_accuracy: 0.8625\n",
            "Epoch 18/30\n",
            "55/55 [==============================] - 5s 96ms/step - loss: 0.5437 - categorical_accuracy: 0.9370 - val_loss: 0.7792 - val_categorical_accuracy: 0.8614\n",
            "Epoch 19/30\n",
            "55/55 [==============================] - 5s 94ms/step - loss: 0.5214 - categorical_accuracy: 0.9442 - val_loss: 0.7963 - val_categorical_accuracy: 0.8614\n",
            "Epoch 20/30\n",
            "55/55 [==============================] - 5s 94ms/step - loss: 0.5054 - categorical_accuracy: 0.9426 - val_loss: 0.7249 - val_categorical_accuracy: 0.8832\n",
            "Epoch 21/30\n",
            "55/55 [==============================] - 5s 93ms/step - loss: 0.4806 - categorical_accuracy: 0.9534 - val_loss: 0.7113 - val_categorical_accuracy: 0.8877\n",
            "Epoch 22/30\n",
            "55/55 [==============================] - 5s 98ms/step - loss: 0.4608 - categorical_accuracy: 0.9588 - val_loss: 0.7016 - val_categorical_accuracy: 0.8832\n",
            "Epoch 23/30\n",
            "55/55 [==============================] - 5s 94ms/step - loss: 0.4642 - categorical_accuracy: 0.9540 - val_loss: 0.6918 - val_categorical_accuracy: 0.8820\n",
            "Epoch 24/30\n",
            "55/55 [==============================] - 5s 94ms/step - loss: 0.4453 - categorical_accuracy: 0.9549 - val_loss: 0.6830 - val_categorical_accuracy: 0.9003\n",
            "Epoch 25/30\n",
            "55/55 [==============================] - 5s 97ms/step - loss: 0.4241 - categorical_accuracy: 0.9637 - val_loss: 0.6953 - val_categorical_accuracy: 0.8855\n",
            "Epoch 26/30\n",
            "55/55 [==============================] - 5s 96ms/step - loss: 0.4208 - categorical_accuracy: 0.9660 - val_loss: 0.6833 - val_categorical_accuracy: 0.8866\n",
            "Epoch 27/30\n",
            "55/55 [==============================] - 5s 94ms/step - loss: 0.4190 - categorical_accuracy: 0.9631 - val_loss: 0.6930 - val_categorical_accuracy: 0.9003\n",
            "Epoch 28/30\n",
            "55/55 [==============================] - 5s 93ms/step - loss: 0.4070 - categorical_accuracy: 0.9666 - val_loss: 0.6580 - val_categorical_accuracy: 0.8877\n",
            "Epoch 29/30\n",
            "55/55 [==============================] - 5s 94ms/step - loss: 0.4063 - categorical_accuracy: 0.9645 - val_loss: 0.6945 - val_categorical_accuracy: 0.8740\n",
            "\n",
            "Epoch 00029: ReduceLROnPlateau reducing learning rate to 0.0005000000237487257.\n",
            "Epoch 30/30\n",
            "55/55 [==============================] - 5s 95ms/step - loss: 0.3824 - categorical_accuracy: 0.9750 - val_loss: 0.6351 - val_categorical_accuracy: 0.8992\n"
          ],
          "name": "stdout"
        }
      ]
    },
    {
      "cell_type": "markdown",
      "metadata": {
        "id": "JZvgTSYTELWz"
      },
      "source": [
        "This improved version of the neural network was able to deliver much faster converge and significantly better results in both training and validation accuracy, reaching 97.50% and 89.92% respectively. "
      ]
    },
    {
      "cell_type": "markdown",
      "metadata": {
        "id": "WcyJDitLeNbl"
      },
      "source": [
        "We hope to increase the performance of the neural network by adding a 1D max pooling layer between each convolution layer and a fully connected layer after the convolutions. This theoretically should allow the model to reduce noise and dimensionality of the data in between convolutions and make finding distinctive patterns easier."
      ]
    },
    {
      "cell_type": "code",
      "metadata": {
        "id": "ri2BWJUDvVQx"
      },
      "source": [
        "def model2():\n",
        "    model2 = tf.keras.models.Sequential()\n",
        "    # First Convolution Layer.\n",
        "    model2.add(tf.keras.layers.Conv1D(128,\n",
        "                 input_shape=[100,1],\n",
        "                 kernel_size=5,\n",
        "                 strides=2,\n",
        "                 padding='same',\n",
        "                 kernel_initializer='glorot_uniform',\n",
        "                 kernel_regularizer=tf.keras.regularizers.l2(l=0.01)))\n",
        "    model2.add(tf.keras.layers.Activation('relu'))\n",
        "    # Adding a max pooling layer to reduce noise and dimensionality.\n",
        "    model2.add(tf.keras.layers.MaxPooling1D(pool_size=2, strides=1))\n",
        "    # Second Convolution Layer.\n",
        "    model2.add(tf.keras.layers.Conv1D(64,\n",
        "                 kernel_size=4,\n",
        "                 strides=1,\n",
        "                 padding='same',\n",
        "                 kernel_initializer='glorot_uniform',\n",
        "                 kernel_regularizer=tf.keras.regularizers.l2(l=0.01)))\n",
        "    model2.add(tf.keras.layers.Activation('relu'))\n",
        "    # Adding a max pooling layer to reduce noise and dimensionality.\n",
        "    model2.add(tf.keras.layers.MaxPooling1D(pool_size=2, strides=1))\n",
        "    # Third Convolution Layer.\n",
        "    model2.add(tf.keras.layers.Conv1D(64,\n",
        "                 kernel_size=4,\n",
        "                 strides=1,\n",
        "                 padding='same',\n",
        "                 kernel_initializer='glorot_uniform',\n",
        "                 kernel_regularizer=tf.keras.regularizers.l2(l=0.01)))\n",
        "    model2.add(tf.keras.layers.Activation('relu'))\n",
        "    # Adding a max pooling layer to reduce noise and dimensionality.\n",
        "    model2.add(tf.keras.layers.MaxPooling1D(pool_size=2, strides=1))\n",
        "    # Last Convolution Layer.\n",
        "    model2.add(tf.keras.layers.Conv1D(32,\n",
        "                 kernel_size=3,\n",
        "                 strides=1,\n",
        "                 padding='same',\n",
        "                 kernel_initializer='glorot_uniform',\n",
        "                 kernel_regularizer=tf.keras.regularizers.l2(l=0.01)))\n",
        "    model2.add(tf.keras.layers.Activation('relu'))\n",
        "    # Adding a max pooling layer to reduce noise and dimensionality.\n",
        "    model2.add(tf.keras.layers.MaxPooling1D(pool_size=2, strides=1))\n",
        "    model2.add(tf.keras.layers.Reshape((1472,)))\n",
        "    # Adding a fully connected layer to help with pattern recognition.\n",
        "    model2.add(tf.keras.layers.Dense(1000, activation='relu', \n",
        "                                     kernel_initializer='glorot_uniform',\n",
        "                                     bias_initializer='zeros'))\n",
        "    model2.add(tf.keras.layers.Dropout(0.2))\n",
        "    # Final softmax layer for final classification over 10 classes.\n",
        "    model2.add(tf.keras.layers.Dense(10, activation='softmax'))\n",
        "    return model2"
      ],
      "execution_count": null,
      "outputs": []
    },
    {
      "cell_type": "code",
      "metadata": {
        "id": "UtaKghInwv5c"
      },
      "source": [
        "# We need to reset the optimizer, loss function, and accuracy metric for each model.\n",
        "optimizer = tf.keras.optimizers.Adam(learning_rate = l_r) # Adam is computational efficient and requires little memory.\n",
        "ce_loss = tf.keras.losses.categorical_crossentropy # This is a good loss metric for multiple one-hot encoded classes.\n",
        "accuracy_metric = tf.keras.metrics.CategoricalAccuracy() # This is a good accuracy metric for multiple one-hot encoded classes."
      ],
      "execution_count": null,
      "outputs": []
    },
    {
      "cell_type": "code",
      "metadata": {
        "id": "JylJuud2wyEM"
      },
      "source": [
        "model2 = model2() # Compiling the model.\n",
        "model2.compile(optimizer=optimizer, loss=ce_loss, metrics=[accuracy_metric])"
      ],
      "execution_count": null,
      "outputs": []
    },
    {
      "cell_type": "code",
      "metadata": {
        "id": "R-K2ILWe0cpO",
        "colab": {
          "base_uri": "https://localhost:8080/"
        },
        "outputId": "24389fb3-39e5-4c8c-d155-7ba28299f846"
      },
      "source": [
        "model2.summary()"
      ],
      "execution_count": null,
      "outputs": [
        {
          "output_type": "stream",
          "text": [
            "Model: \"sequential_11\"\n",
            "_________________________________________________________________\n",
            "Layer (type)                 Output Shape              Param #   \n",
            "=================================================================\n",
            "conv1d_44 (Conv1D)           (None, 50, 128)           768       \n",
            "_________________________________________________________________\n",
            "activation_20 (Activation)   (None, 50, 128)           0         \n",
            "_________________________________________________________________\n",
            "max_pooling1d_12 (MaxPooling (None, 49, 128)           0         \n",
            "_________________________________________________________________\n",
            "conv1d_45 (Conv1D)           (None, 49, 64)            32832     \n",
            "_________________________________________________________________\n",
            "activation_21 (Activation)   (None, 49, 64)            0         \n",
            "_________________________________________________________________\n",
            "max_pooling1d_13 (MaxPooling (None, 48, 64)            0         \n",
            "_________________________________________________________________\n",
            "conv1d_46 (Conv1D)           (None, 48, 64)            16448     \n",
            "_________________________________________________________________\n",
            "activation_22 (Activation)   (None, 48, 64)            0         \n",
            "_________________________________________________________________\n",
            "max_pooling1d_14 (MaxPooling (None, 47, 64)            0         \n",
            "_________________________________________________________________\n",
            "conv1d_47 (Conv1D)           (None, 47, 32)            6176      \n",
            "_________________________________________________________________\n",
            "activation_23 (Activation)   (None, 47, 32)            0         \n",
            "_________________________________________________________________\n",
            "max_pooling1d_15 (MaxPooling (None, 46, 32)            0         \n",
            "_________________________________________________________________\n",
            "reshape_11 (Reshape)         (None, 1472)              0         \n",
            "_________________________________________________________________\n",
            "dense_11 (Dense)             (None, 1000)              1473000   \n",
            "_________________________________________________________________\n",
            "dropout_1 (Dropout)          (None, 1000)              0         \n",
            "_________________________________________________________________\n",
            "dense_12 (Dense)             (None, 10)                10010     \n",
            "=================================================================\n",
            "Total params: 1,539,234\n",
            "Trainable params: 1,539,234\n",
            "Non-trainable params: 0\n",
            "_________________________________________________________________\n"
          ],
          "name": "stdout"
        }
      ]
    },
    {
      "cell_type": "code",
      "metadata": {
        "id": "32OrosY9w4lJ",
        "colab": {
          "base_uri": "https://localhost:8080/"
        },
        "outputId": "6d1ffa3f-0e4f-409b-ac31-214f8a054e85"
      },
      "source": [
        "# This is a callback that reduces the learning rate by a factor of half if the validation accuracy doesn't increase within 5 epochs.\n",
        "reduce_lr = ReduceLROnPlateau(monitor='val_categorical_accuracy', factor=0.5, patience=5, min_lr=0.0000001, verbose=1)\n",
        "\n",
        "# Commences training of the model.\n",
        "with tf.device('/device:GPU:0'):\n",
        "    history_3 = model2.fit(x=training, y=train_label, batch_size=batchsize, epochs=epochs,\n",
        "                           validation_data=(validation, valid_label), \n",
        "                           shuffle=True, initial_epoch=0, callbacks=[reduce_lr])\n",
        "\n",
        "# We want a place to store the training and validation loss and accuracy.\n",
        "training_loss = history_3.history['loss']\n",
        "training_accuracy = history_3.history['categorical_accuracy']\n",
        "valid_loss = history_3.history['val_loss']\n",
        "valid_accuracy = history_3.history['val_categorical_accuracy']"
      ],
      "execution_count": null,
      "outputs": [
        {
          "output_type": "stream",
          "text": [
            "Epoch 1/30\n",
            "55/55 [==============================] - 9s 145ms/step - loss: 3.8598 - categorical_accuracy: 0.3222 - val_loss: 2.4140 - val_categorical_accuracy: 0.6483\n",
            "Epoch 2/30\n",
            "55/55 [==============================] - 10s 177ms/step - loss: 2.2151 - categorical_accuracy: 0.6999 - val_loss: 1.9353 - val_categorical_accuracy: 0.7090\n",
            "Epoch 3/30\n",
            "55/55 [==============================] - 8s 148ms/step - loss: 1.6945 - categorical_accuracy: 0.7761 - val_loss: 1.4973 - val_categorical_accuracy: 0.7995\n",
            "Epoch 4/30\n",
            "55/55 [==============================] - 8s 137ms/step - loss: 1.3272 - categorical_accuracy: 0.8453 - val_loss: 1.3173 - val_categorical_accuracy: 0.8190\n",
            "Epoch 5/30\n",
            "55/55 [==============================] - 7s 136ms/step - loss: 1.0994 - categorical_accuracy: 0.8850 - val_loss: 1.1112 - val_categorical_accuracy: 0.8683\n",
            "Epoch 6/30\n",
            "55/55 [==============================] - 7s 136ms/step - loss: 0.9119 - categorical_accuracy: 0.9174 - val_loss: 1.0080 - val_categorical_accuracy: 0.8660\n",
            "Epoch 7/30\n",
            "55/55 [==============================] - 7s 136ms/step - loss: 0.7903 - categorical_accuracy: 0.9280 - val_loss: 0.9625 - val_categorical_accuracy: 0.8797\n",
            "Epoch 8/30\n",
            "55/55 [==============================] - 8s 142ms/step - loss: 0.7038 - categorical_accuracy: 0.9369 - val_loss: 0.9046 - val_categorical_accuracy: 0.8637\n",
            "Epoch 9/30\n",
            "55/55 [==============================] - 8s 140ms/step - loss: 0.6320 - categorical_accuracy: 0.9462 - val_loss: 0.7880 - val_categorical_accuracy: 0.8923\n",
            "Epoch 10/30\n",
            "55/55 [==============================] - 8s 137ms/step - loss: 0.5417 - categorical_accuracy: 0.9656 - val_loss: 0.7278 - val_categorical_accuracy: 0.8992\n",
            "Epoch 11/30\n",
            "55/55 [==============================] - 7s 134ms/step - loss: 0.4937 - categorical_accuracy: 0.9685 - val_loss: 0.6938 - val_categorical_accuracy: 0.9084\n",
            "Epoch 12/30\n",
            "55/55 [==============================] - 7s 136ms/step - loss: 0.4516 - categorical_accuracy: 0.9745 - val_loss: 0.6668 - val_categorical_accuracy: 0.9129\n",
            "Epoch 13/30\n",
            "55/55 [==============================] - 8s 138ms/step - loss: 0.4321 - categorical_accuracy: 0.9718 - val_loss: 0.6634 - val_categorical_accuracy: 0.9084\n",
            "Epoch 14/30\n",
            "55/55 [==============================] - 7s 135ms/step - loss: 0.3968 - categorical_accuracy: 0.9786 - val_loss: 0.6175 - val_categorical_accuracy: 0.9072\n",
            "Epoch 15/30\n",
            "55/55 [==============================] - 8s 137ms/step - loss: 0.3671 - categorical_accuracy: 0.9807 - val_loss: 0.6314 - val_categorical_accuracy: 0.9107\n",
            "Epoch 16/30\n",
            "55/55 [==============================] - 8s 137ms/step - loss: 0.3701 - categorical_accuracy: 0.9735 - val_loss: 0.5854 - val_categorical_accuracy: 0.9198\n",
            "Epoch 17/30\n",
            "55/55 [==============================] - 8s 136ms/step - loss: 0.3214 - categorical_accuracy: 0.9858 - val_loss: 0.5430 - val_categorical_accuracy: 0.9233\n",
            "Epoch 18/30\n",
            "55/55 [==============================] - 7s 135ms/step - loss: 0.2933 - categorical_accuracy: 0.9896 - val_loss: 0.5425 - val_categorical_accuracy: 0.9164\n",
            "Epoch 19/30\n",
            "55/55 [==============================] - 7s 136ms/step - loss: 0.2839 - categorical_accuracy: 0.9891 - val_loss: 0.5566 - val_categorical_accuracy: 0.9038\n",
            "Epoch 20/30\n",
            "55/55 [==============================] - 8s 137ms/step - loss: 0.2735 - categorical_accuracy: 0.9856 - val_loss: 0.5201 - val_categorical_accuracy: 0.9198\n",
            "Epoch 21/30\n",
            "55/55 [==============================] - 7s 137ms/step - loss: 0.2543 - categorical_accuracy: 0.9898 - val_loss: 0.4711 - val_categorical_accuracy: 0.9233\n",
            "Epoch 22/30\n",
            "55/55 [==============================] - 8s 137ms/step - loss: 0.2342 - categorical_accuracy: 0.9930 - val_loss: 0.4926 - val_categorical_accuracy: 0.9210\n",
            "\n",
            "Epoch 00022: ReduceLROnPlateau reducing learning rate to 0.0005000000237487257.\n",
            "Epoch 23/30\n",
            "55/55 [==============================] - 7s 136ms/step - loss: 0.2152 - categorical_accuracy: 0.9952 - val_loss: 0.4573 - val_categorical_accuracy: 0.9255\n",
            "Epoch 24/30\n",
            "55/55 [==============================] - 7s 137ms/step - loss: 0.2007 - categorical_accuracy: 0.9976 - val_loss: 0.4332 - val_categorical_accuracy: 0.9393\n",
            "Epoch 25/30\n",
            "55/55 [==============================] - 7s 136ms/step - loss: 0.1942 - categorical_accuracy: 0.9973 - val_loss: 0.4257 - val_categorical_accuracy: 0.9359\n",
            "Epoch 26/30\n",
            "55/55 [==============================] - 8s 139ms/step - loss: 0.1862 - categorical_accuracy: 0.9978 - val_loss: 0.4350 - val_categorical_accuracy: 0.9336\n",
            "Epoch 27/30\n",
            "55/55 [==============================] - 7s 136ms/step - loss: 0.1838 - categorical_accuracy: 0.9974 - val_loss: 0.4356 - val_categorical_accuracy: 0.9267\n",
            "Epoch 28/30\n",
            "55/55 [==============================] - 8s 137ms/step - loss: 0.1822 - categorical_accuracy: 0.9964 - val_loss: 0.4140 - val_categorical_accuracy: 0.9290\n",
            "Epoch 29/30\n",
            "55/55 [==============================] - 8s 138ms/step - loss: 0.1774 - categorical_accuracy: 0.9972 - val_loss: 0.4104 - val_categorical_accuracy: 0.9313\n",
            "\n",
            "Epoch 00029: ReduceLROnPlateau reducing learning rate to 0.0002500000118743628.\n",
            "Epoch 30/30\n",
            "55/55 [==============================] - 7s 136ms/step - loss: 0.1699 - categorical_accuracy: 0.9988 - val_loss: 0.4002 - val_categorical_accuracy: 0.9370\n"
          ],
          "name": "stdout"
        }
      ]
    },
    {
      "cell_type": "markdown",
      "metadata": {
        "id": "nM0VTc4lMvwA"
      },
      "source": [
        "We are now getting very high validation accuracy with our model at 93.70%. The training accuracy is now at a peak of 99.88%. It can be said that the max pooling and final fully connected layer are successful at feature distinction between label IDs."
      ]
    },
    {
      "cell_type": "markdown",
      "metadata": {
        "id": "Log6GkFMOCnw"
      },
      "source": [
        "One thing that should be noted is that we didn't use batch normalization after each convolution layer. Batch normalization is most commonly used to decrease the covariance shift of the output between convolutions to make the model converge faster. However, since the model begin converging very fast at 9 epochs, this doesn't seem necessary."
      ]
    },
    {
      "cell_type": "markdown",
      "metadata": {
        "id": "DZwaznxMw-R2"
      },
      "source": [
        "### 8. Inference"
      ]
    },
    {
      "cell_type": "markdown",
      "metadata": {
        "id": "O51woVBBNEix"
      },
      "source": [
        "Finally, we want to see how well the model performs on the test dataset that we created."
      ]
    },
    {
      "cell_type": "markdown",
      "metadata": {
        "id": "RUxs0hFPGQyZ"
      },
      "source": [
        "#### Testing Set Accuracy"
      ]
    },
    {
      "cell_type": "code",
      "metadata": {
        "id": "JNy-bJafycX7"
      },
      "source": [
        "# Testing out the model on the test set.\n",
        "test_pred = model2.predict(test)\n",
        "accuracy = tf.keras.metrics.CategoricalAccuracy()\n",
        "accuracy.update_state(test_label, test_pred)\n",
        "accuracy = accuracy.result().numpy()"
      ],
      "execution_count": null,
      "outputs": []
    },
    {
      "cell_type": "code",
      "metadata": {
        "id": "B8pux1cXPxag",
        "colab": {
          "base_uri": "https://localhost:8080/"
        },
        "outputId": "fbcae47e-4f89-4f11-dbe0-ed8137cda878"
      },
      "source": [
        "# Printing the test accuracy:\n",
        "accuracy"
      ],
      "execution_count": null,
      "outputs": [
        {
          "output_type": "execute_result",
          "data": {
            "text/plain": [
              "0.946039"
            ]
          },
          "metadata": {
            "tags": []
          },
          "execution_count": 94
        }
      ]
    },
    {
      "cell_type": "markdown",
      "metadata": {
        "id": "3Hla427LNNVh"
      },
      "source": [
        "The test dataset has produced 94.60% accuracy."
      ]
    },
    {
      "cell_type": "markdown",
      "metadata": {
        "id": "v9u_gcMv1Cn_"
      },
      "source": [
        "#### Confusion Matrix"
      ]
    },
    {
      "cell_type": "markdown",
      "metadata": {
        "id": "quThZVVPNSxc"
      },
      "source": [
        "It would also very interesting to see how different classes in the test dataset performed."
      ]
    },
    {
      "cell_type": "code",
      "metadata": {
        "id": "hSUic-jhHGDr"
      },
      "source": [
        "test_label_decoded = tf.math.argmax(test_label, axis=1)\n",
        "test_pred_decoded = tf.math.argmax(test_pred, axis=1)"
      ],
      "execution_count": null,
      "outputs": []
    },
    {
      "cell_type": "code",
      "metadata": {
        "id": "fuLf3vRhO_o0"
      },
      "source": [
        "# Creating the numbers for the confusion matrix.\n",
        "confusion_matrix = tf.math.confusion_matrix(test_label_decoded, test_pred_decoded)"
      ],
      "execution_count": null,
      "outputs": []
    },
    {
      "cell_type": "code",
      "metadata": {
        "colab": {
          "base_uri": "https://localhost:8080/"
        },
        "id": "IEJZmqnjHqhG",
        "outputId": "330448eb-ee75-4505-bbf9-e2577f6ea235"
      },
      "source": [
        "confusion_matrix"
      ],
      "execution_count": null,
      "outputs": [
        {
          "output_type": "execute_result",
          "data": {
            "text/plain": [
              "<tf.Tensor: shape=(10, 10), dtype=int32, numpy=\n",
              "array([[97,  0,  0,  0,  1,  0,  0,  0,  0,  2],\n",
              "       [ 0, 40,  0,  0,  1,  0,  0,  0,  0,  1],\n",
              "       [ 1,  0, 92,  2,  1,  1,  1,  0,  2,  0],\n",
              "       [ 1,  0,  2, 91,  1,  0,  1,  0,  3,  1],\n",
              "       [ 0,  0,  1,  0, 93,  0,  0,  2,  1,  3],\n",
              "       [ 0,  0,  1,  0,  0, 97,  0,  0,  1,  1],\n",
              "       [ 0,  0,  2,  1,  0,  0, 34,  0,  0,  0],\n",
              "       [ 0,  0,  1,  0,  0,  0,  0, 99,  0,  0],\n",
              "       [ 1,  0,  0,  2,  1,  0,  0,  0, 88,  0],\n",
              "       [ 1,  2,  2,  0,  0,  2,  0,  0,  0, 93]], dtype=int32)>"
            ]
          },
          "metadata": {
            "tags": []
          },
          "execution_count": 104
        }
      ]
    },
    {
      "cell_type": "code",
      "metadata": {
        "id": "4A4obHUj1b4k",
        "colab": {
          "base_uri": "https://localhost:8080/",
          "height": 459
        },
        "outputId": "622c2892-2104-40c4-da2d-cb7f5cf97b53"
      },
      "source": [
        "# Printing the confusion matrix.\n",
        "df_cm = pd.DataFrame(np.array(confusion_matrix), index = [i for i in range(10)],\n",
        "                                       columns = [i for i in range(10)])\n",
        "plt.figure(figsize = (10,7))\n",
        "heatmap = sn.heatmap(df_cm, annot=True)\n",
        "heatmap.set(xlabel='Predictions', ylabel='Ground Truth Label')"
      ],
      "execution_count": null,
      "outputs": [
        {
          "output_type": "execute_result",
          "data": {
            "text/plain": [
              "[Text(69.0, 0.5, 'Ground Truth Label'), Text(0.5, 42.0, 'Predictions')]"
            ]
          },
          "metadata": {
            "tags": []
          },
          "execution_count": 113
        },
        {
          "output_type": "display_data",
          "data": {
            "image/png": "[encoded data removed]",
            "text/plain": [
              "<Figure size 720x504 with 2 Axes>"
            ]
          },
          "metadata": {
            "tags": [],
            "needs_background": "light"
          }
        }
      ]
    },
    {
      "cell_type": "markdown",
      "metadata": {
        "id": "j6_3uI44NhqW"
      },
      "source": [
        "It can be said that the CNN model has performed very well across all classes. One detail that should be noted is that classes 1 and 6 seemed to underperform a little bit relative to the other classes. This is likely due to the dataset imbalance that was present in the dataset in the beginning."
      ]
    },
    {
      "cell_type": "markdown",
      "metadata": {
        "id": "evN_xb0PJzHs"
      },
      "source": [
        "### 8. Conclusion"
      ]
    },
    {
      "cell_type": "markdown",
      "metadata": {
        "id": "EJJs9MAhfCQo"
      },
      "source": [
        "This concludes this project. It is fair to say that we have succeeded at producing a model that can accurately classify sounds."
      ]
    },
    {
      "cell_type": "markdown",
      "metadata": {
        "id": "CmxYqcDWQjlZ"
      },
      "source": [
        "If given more time and hardware resources, we can experiment more with how batch size, batch normalization, and different optimizers affect model performance on the validation and testing set. It would also be insightful to experiment more with model architecture and different types of models for time, such as LSTMs and Feed Forward Neural Networks. Lastly, I am interested in training the model for more epochs to see how the model behaves the more it trains."
      ]
    }
  ]
}